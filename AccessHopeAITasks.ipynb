{
 "cells": [
  {
   "cell_type": "code",
   "execution_count": 1,
   "id": "897d26be-e3fc-41c2-989c-9baf711c7018",
   "metadata": {},
   "outputs": [
    {
     "name": "stdout",
     "output_type": "stream",
     "text": [
      "Sub-fields in AI are:\n",
      "Machine Learning\n",
      "Neural Networks\n",
      "Vision\n",
      "Robotics\n",
      "Speech Processing\n",
      "Natural Language Processing\n"
     ]
    }
   ],
   "source": [
    "from HopeAITasks import Assignments;\n",
    "\n",
    "Assignments.Subfields();"
   ]
  },
  {
   "cell_type": "code",
   "execution_count": 3,
   "id": "19bbc4a7-ced9-4e88-89e3-0706ede1e1e9",
   "metadata": {},
   "outputs": [
    {
     "name": "stdin",
     "output_type": "stream",
     "text": [
      "Enter a number: 3\n"
     ]
    },
    {
     "name": "stdout",
     "output_type": "stream",
     "text": [
      "3  is Odd number\n"
     ]
    }
   ],
   "source": [
    "Assignments.OddEven();"
   ]
  },
  {
   "cell_type": "code",
   "execution_count": 5,
   "id": "a32e30c0-66ee-455b-9b48-c40177010ceb",
   "metadata": {},
   "outputs": [
    {
     "name": "stdin",
     "output_type": "stream",
     "text": [
      "Enter your sex (type --> Male or Female): Male\n",
      "Enter your age: 22\n"
     ]
    },
    {
     "name": "stdout",
     "output_type": "stream",
     "text": [
      "MALE IS ELIGIBLE FOR MARRIAGE\n"
     ]
    }
   ],
   "source": [
    "Assignments.Eligible();"
   ]
  },
  {
   "cell_type": "code",
   "execution_count": 7,
   "id": "fbd70bce-e849-45a4-b794-d7dab6e8fd47",
   "metadata": {},
   "outputs": [
    {
     "name": "stdin",
     "output_type": "stream",
     "text": [
      "Enter marks for Subject1: 98\n",
      "Enter marks for Subject2: 97\n",
      "Enter marks for Subject3: 67\n",
      "Enter marks for Subject4: 78\n",
      "Enter marks for Subject5: 88\n"
     ]
    },
    {
     "name": "stdout",
     "output_type": "stream",
     "text": [
      "Total: 428\n",
      "Percentage: 85.6\n"
     ]
    }
   ],
   "source": [
    "Assignments.percentage();"
   ]
  },
  {
   "cell_type": "code",
   "execution_count": 9,
   "id": "9e505507-3b9a-4006-ac21-7bcfa9c66e7a",
   "metadata": {},
   "outputs": [
    {
     "name": "stdin",
     "output_type": "stream",
     "text": [
      "Enter height of the triangle: 45\n",
      "Enter breadth of the triangle: 65\n"
     ]
    },
    {
     "name": "stdout",
     "output_type": "stream",
     "text": [
      "Area of Triangle: 1462.5\n"
     ]
    },
    {
     "name": "stdin",
     "output_type": "stream",
     "text": [
      "Enter height1 of the triangle: 3\n",
      "Enter height2 of the triangle: 5\n",
      "Enter breadth1 of the triangle: 6\n"
     ]
    },
    {
     "name": "stdout",
     "output_type": "stream",
     "text": [
      "Perimeter of Triangle: 14\n"
     ]
    }
   ],
   "source": [
    "Assignments.triangle();"
   ]
  },
  {
   "cell_type": "code",
   "execution_count": null,
   "id": "278d5981-5f86-4687-893c-dac2865a83f8",
   "metadata": {},
   "outputs": [],
   "source": []
  }
 ],
 "metadata": {
  "kernelspec": {
   "display_name": "Python 3 (ipykernel)",
   "language": "python",
   "name": "python3"
  },
  "language_info": {
   "codemirror_mode": {
    "name": "ipython",
    "version": 3
   },
   "file_extension": ".py",
   "mimetype": "text/x-python",
   "name": "python",
   "nbconvert_exporter": "python",
   "pygments_lexer": "ipython3",
   "version": "3.12.4"
  }
 },
 "nbformat": 4,
 "nbformat_minor": 5
}
